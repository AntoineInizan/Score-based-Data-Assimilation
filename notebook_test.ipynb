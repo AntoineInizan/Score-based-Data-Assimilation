{
 "cells": [
  {
   "cell_type": "code",
   "execution_count": null,
   "id": "9ae96531",
   "metadata": {},
   "outputs": [],
   "source": [
    "def function_louisls(x):\n",
    "    return x**2"
   ]
  },
  {
   "cell_type": "code",
   "execution_count": null,
   "id": "9ec41522",
   "metadata": {},
   "outputs": [],
   "source": [
    "def function_main(x):\n",
    "    return x**2 + 3"
   ]
  }
 ],
 "metadata": {
  "kernelspec": {
   "display_name": "env_ML",
   "language": "python",
   "name": "python3"
  },
  "language_info": {
   "name": "python",
   "version": "3.12.2"
  }
 },
 "nbformat": 4,
 "nbformat_minor": 5
}
